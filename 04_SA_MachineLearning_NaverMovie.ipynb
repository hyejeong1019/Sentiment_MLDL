{
 "cells": [
  {
   "cell_type": "markdown",
   "metadata": {
    "id": "bEJBEcKWdezQ"
   },
   "source": [
    "# 머신러닝 기반 네이버 영화 리뷰 감성 분석"
   ]
  },
  {
   "cell_type": "code",
   "execution_count": null,
   "metadata": {},
   "outputs": [],
   "source": [
    "# 데이터셋 로딩하여 사용\n"
   ]
  },
  {
   "attachments": {},
   "cell_type": "markdown",
   "metadata": {
    "id": "NAcQ9vtHdlOb"
   },
   "source": [
    "## Decision Tree\n",
    "- criterion : 분할 기준 ['gini', 'entropy']\n",
    "- splitter : 노드를 분할하는 데 사용되는 전략 ['best', 'random']\n",
    "- max_depth': 트리의 최대 깊이\n",
    "- min_samples_split : 노드 분할을 위한 최소 샘플 수 (2 ~)\n",
    "- min_samples_leaf : 리프 노드에 필요한 최소 샘플 수 (1 ~)\n",
    "- max_features : 각 분할에서 고려할 특성의 최대 수\n",
    "    - [None, 'auto', 'sqrt', 'log2']\n",
    "- class_weight: [None, 'balanced']\n",
    "- random_state : 무작위성을 조절하기 위한 시드 값\n",
    "    - 같은 시드로 모델을 학습하면 항상 동일한 결과를 얻을 수 있음    "
   ]
  },
  {
   "attachments": {},
   "cell_type": "markdown",
   "metadata": {
    "id": "ZwfZ3tBCdp0y"
   },
   "source": [
    "## 랜덤 포레스트 (Random Forrest)\n",
    "- n_estimators : Dectsion Tree의 수 (기본 100개)\n",
    "- bootstrap (True)\n",
    "  - Bootstrap Sampling : 학습 데이터에서 데이터를 중복해서 샘플링하는 방식\n",
    "- n_jobs (None) : 병렬처리에 사용할 CPU 코어의 수"
   ]
  },
  {
   "attachments": {},
   "cell_type": "markdown",
   "metadata": {
    "id": "Basz5syAdupo"
   },
   "source": [
    "## LogisticRegression (로지스틱 회귀분석)\n",
    "- penalty (default='l2'):규제 (Regularization)의 종류 지정\n",
    "    - 'l1', 'l2', 'elasticnet', 'none'\n",
    "    - 모델의 복잡도를 제어하고, 과적합(Overfitting)을 방지하는 기술\n",
    "    - 모델의 가중치(weight)나 계수(coefficient)에 페널티를 부과하여 모델이 너무 복잡해지지 않도록 제한하는 역할\n",
    "- C (default=1.0): 규제 강도 조절. 값이 작을수록 강한 규제가 적용\n",
    "- fit_intercept (default=True):\n",
    "- max_iter (default=100): 최적화 알고리즘이 수렴할 때까지 반복하는 최대 횟수\n",
    "- random_state (default=None): 무작위성을 조절하기 위한 시드 값\n",
    "- tol (default=1e-4): 수렴 기준으로, 손실 함수의 변화가 이 값보다 작을 때 최적화를 중단\n",
    "- verbose (default=0): 최적화 과정 중에 출력을 활성화하려면 1 이상의 값을 지정\n",
    "- warm_start (default=False): 이전에 학습된 모델을 초기화하지 않고 이어서 학습할 때 True로 설정"
   ]
  },
  {
   "attachments": {},
   "cell_type": "markdown",
   "metadata": {
    "id": "SbYi56hOd8Cj"
   },
   "source": [
    "## SVM 모델\n",
    "* penalty (default='l2')\n",
    "* C (default=1.0):\n",
    "* loss (default='squared_hinge'): 손실 함수 지정\n",
    "    - 'hinge' : 힌지 손실, 'squared_hinge' : 힌지 손실의 제곱\n",
    "* random_state\n",
    "* max_iter\n",
    "* tol"
   ]
  },
  {
   "attachments": {},
   "cell_type": "markdown",
   "metadata": {
    "id": "9E6BRmXNeAwS"
   },
   "source": [
    "## 퍼셉트론 모델 (인공신경망)\n",
    "* penalty (default=None):\n",
    "* alpha (default=0.0001): 규제 강도를 조절. 높을 수록 강한 규제\n",
    "* max_iter (default=1000)\n",
    "* tol (default=1e-3)\n",
    "* shuffle (default=True): 각 에포크(epoch)마다 훈련 데이터를 섞을지 여부\n",
    "* eta0 (default=1.0): 학습률\n",
    "* random_state (default=0)"
   ]
  },
  {
   "attachments": {},
   "cell_type": "markdown",
   "metadata": {
    "id": "1bnVxVoQdzmd"
   },
   "source": [
    "## 나이브 베이지안\n",
    "- 데이터가 가우시안 분포를 따른다고 가정을 따르면 일반적으로 데이터의 특성에 맞춰 잘 동작"
   ]
  },
  {
   "attachments": {},
   "cell_type": "markdown",
   "metadata": {
    "id": "UlotV7P3d37G"
   },
   "source": [
    "## K-Nearest Neighbor (KNN)\n",
    "- n_neighbors (default=5): 이웃의 개수(k)\n",
    "- weights (default='uniform'):예측에 사용되는 가중치를 지정\n",
    "    - uniform : 균일한 가중치\n",
    "    - distance :\n",
    "- algorithm (default='auto'): 이웃을 찾기 위해 사용되는 알고리즘\n",
    "    - 'auto', 'ball_tree', 'kd_tree', 'brute'\n",
    "- leaf_size (default=30): BallTree 또는 KDTree 알고리즘을 사용할 경우 잎 노드의 크기\n",
    "- p (default=2): 거리 측정에 사용되는 매개변수\n",
    "    - p=1 : 맨해튼 거리, p=2 : 유클리디안 거리\n",
    "- metric (default='minkowski'):거리 측정에 사용되는 메트릭\n",
    "    - 'minkowski'를 선택하면 p 매개변수에 따라 선택\n",
    "- metric_params (default=None): 사용자 지정 거리 메트릭 함수에 대한 추가 매개변수\n",
    "- n_jobs (default=None): 이웃을 검색하는 동안 사용되는 CPU 수. None = 1개"
   ]
  }
 ],
 "metadata": {
  "colab": {
   "authorship_tag": "ABX9TyOO+JAHEkNIf2CSkcSLBGUQ",
   "provenance": []
  },
  "kernelspec": {
   "display_name": "Python 3 (ipykernel)",
   "language": "python",
   "name": "python3"
  },
  "language_info": {
   "codemirror_mode": {
    "name": "ipython",
    "version": 3
   },
   "file_extension": ".py",
   "mimetype": "text/x-python",
   "name": "python",
   "nbconvert_exporter": "python",
   "pygments_lexer": "ipython3",
   "version": "3.11.5"
  }
 },
 "nbformat": 4,
 "nbformat_minor": 1
}
