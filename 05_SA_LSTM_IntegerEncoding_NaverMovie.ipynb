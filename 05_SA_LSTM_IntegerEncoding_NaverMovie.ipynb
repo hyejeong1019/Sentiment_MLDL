{
 "cells": [
  {
   "cell_type": "markdown",
   "metadata": {},
   "source": [
    "# 네이버 영화 리뷰 감성 분석 (LSTM)\n",
    "* Integer Encoding 적용한 데이터셋 로딩하여 사용"
   ]
  },
  {
   "cell_type": "code",
   "execution_count": null,
   "metadata": {},
   "outputs": [],
   "source": [
    "# 특징벡터화된 데이터 셋 로딩"
   ]
  },
  {
   "cell_type": "code",
   "execution_count": null,
   "metadata": {},
   "outputs": [],
   "source": [
    "# Integer Coding을 사용하는 vectorizer 로딩\n"
   ]
  },
  {
   "cell_type": "markdown",
   "metadata": {
    "id": "FtGXGgP2bua5"
   },
   "source": [
    "# 1. LSTM"
   ]
  },
  {
   "cell_type": "markdown",
   "metadata": {},
   "source": [
    "* EarlyStopping (callback) : 모델의 훈련을 조기에 중지. 특정 지표가 더 이상 개선되지 않을 때 훈련을 중지\n",
    "    - monitor: 모니터할 지표\n",
    "    - mode: 개선 여부를 결정할 기준. 'min' = 지표가 감소할 때 중지, 'max' = 지표가 증가할 때 중지\n",
    "    - verbose: 중지되었을 때 메시지를 출력할지 여부\n",
    "    - patience: 지정된 횟수 동안 지표가 개선되지 않을 경우 훈련이 중지\n",
    "* ModelCheckpoint(callback) : 훈련 중에 모델의 가중치를 저장. 주로 검증 데이터에서 지정된 지표가 개선될 때만 모델을 저장하는 데 사용\n",
    "    - filepath: 모델을 저장할 파일 경로\n",
    "    - monitor: 모니터할 지표\n",
    "    - mode: 개선 여부를 결정할 기준. 'min' = 지표가 감소할 때 중지, 'max' = 지표가 증가할 때 중지\n",
    "    - verbose: 중지되었을 때 메시지를 출력할지 여부\n",
    "    - patience: 지정된 횟수 동안 지표가 개선되지 않을 경우 훈련이 중지\n",
    "    - save_best_only: 개선된 모델만 저장할지 여부"
   ]
  },
  {
   "cell_type": "markdown",
   "metadata": {},
   "source": [
    "### keras 한국어 tutorial https://www.tensorflow.org/tutorials?hl=ko"
   ]
  },
  {
   "cell_type": "markdown",
   "metadata": {},
   "source": [
    "### 1-1. 필요한 Callback 지정"
   ]
  },
  {
   "cell_type": "code",
   "execution_count": null,
   "metadata": {
    "id": "3aGOyv985GYH"
   },
   "outputs": [],
   "source": [
    "# 훈련 조기 중지, 훈련 중 모델 저장에 대한 callback 지정\n"
   ]
  },
  {
   "cell_type": "markdown",
   "metadata": {},
   "source": [
    "### 1-2. 신경망 구성\n",
    "- 모델 유형 결정 : Sequential, Pre-trained Models 등\n",
    "- 워드 임베딩 레이어 추가\n",
    "- 원하는 유형 레이어 추가\n",
    "    - Embedding Layer\n",
    "    - Dense Layer (Fully Connected Layer)\n",
    "    - Recurrent Layer : LSTM, GRU\n",
    "    - Activation Layer\n",
    "    - Convolutional Layer\n",
    "    - Pooling Layer : MaxPooling, AveragePooling\n",
    "    - Flatten Layer\n",
    "    - Dropout Layer\n",
    "    - Batch Normalization Layer"
   ]
  },
  {
   "cell_type": "code",
   "execution_count": null,
   "metadata": {
    "id": "B6nEH8bdvzFt",
    "scrolled": true
   },
   "outputs": [],
   "source": [
    "from tensorflow.keras.layers import Embedding, Dense, LSTM\n",
    "from tensorflow.keras.models import Sequential\n",
    "\n",
    "# 순차적 모델을 생성하기 위한 객체 초기화\n",
    "\n",
    "# 임베딩 레이어 추가, vocab_size와 임베딩 차원 설정\n",
    "\n",
    "# LSTM 레이어 추가, 은닉층의 갯수 설정\n",
    "\n",
    "# 이진 분류를 위한 fully connected layer, 출력 크기 1, 활성화 함수 : sigmoid\n"
   ]
  },
  {
   "cell_type": "markdown",
   "metadata": {},
   "source": [
    "### 1-3. 모델 학습에 필요한 최적화 알고리즘, 손실함수, 평가 지표를 저장\n",
    "- 최적화 알고리즘 : RMSprop (Adagrad의 변형. 학습률을 동적으로 조절)\n",
    "- 손실함수 : binary_crossentropy (이진 분류 문제에 주로 사용)\n",
    "- 평가지표 : 정확도"
   ]
  },
  {
   "cell_type": "code",
   "execution_count": null,
   "metadata": {
    "colab": {
     "base_uri": "https://localhost:8080/"
    },
    "id": "7SHHUilxFB3Z",
    "outputId": "66637a24-c134-4b39-d24e-0dbba6f93bcf",
    "scrolled": true
   },
   "outputs": [],
   "source": []
  },
  {
   "cell_type": "markdown",
   "metadata": {},
   "source": [
    "### 1-4. 훈련 진행"
   ]
  },
  {
   "cell_type": "code",
   "execution_count": null,
   "metadata": {
    "scrolled": true
   },
   "outputs": [],
   "source": []
  },
  {
   "cell_type": "markdown",
   "metadata": {},
   "source": [
    "### 1-5. 훈련 중 저장된 모델을 로딩하여 평가"
   ]
  },
  {
   "cell_type": "code",
   "execution_count": null,
   "metadata": {
    "id": "Iva8x8Gr-W7w"
   },
   "outputs": [],
   "source": []
  },
  {
   "cell_type": "code",
   "execution_count": null,
   "metadata": {},
   "outputs": [],
   "source": []
  },
  {
   "cell_type": "code",
   "execution_count": null,
   "metadata": {
    "colab": {
     "base_uri": "https://localhost:8080/"
    },
    "id": "eOenyOoS_Qt5",
    "outputId": "b61eed5c-237b-48a1-f8bd-f6f737274a1b",
    "scrolled": false
   },
   "outputs": [],
   "source": []
  },
  {
   "cell_type": "markdown",
   "metadata": {
    "id": "ucyY3JVpbwxK"
   },
   "source": [
    "# 2. 문장을 입력 받아 감성 분석 해보기"
   ]
  },
  {
   "cell_type": "code",
   "execution_count": null,
   "metadata": {
    "id": "vbvk5X3PPExa"
   },
   "outputs": [],
   "source": []
  },
  {
   "cell_type": "code",
   "execution_count": null,
   "metadata": {
    "colab": {
     "base_uri": "https://localhost:8080/"
    },
    "id": "tFC0qDlO28Zg",
    "outputId": "b516d4b1-310a-4798-a55a-183e8b5a6f4e"
   },
   "outputs": [],
   "source": [
    "analyze_sentiment('이 영화 개꿀잼 ㅋㅋㅋ')"
   ]
  },
  {
   "cell_type": "code",
   "execution_count": null,
   "metadata": {
    "colab": {
     "base_uri": "https://localhost:8080/"
    },
    "id": "s4v-MwEB29Vk",
    "outputId": "23f5a247-e201-4601-823c-c2a1f8ff1c62"
   },
   "outputs": [],
   "source": [
    "analyze_sentiment('이 영화 핵노잼 ㅠㅠ')"
   ]
  },
  {
   "cell_type": "code",
   "execution_count": null,
   "metadata": {
    "colab": {
     "base_uri": "https://localhost:8080/"
    },
    "id": "ybiSO0142-oc",
    "outputId": "d1f697fb-95f7-4787-83ec-ffa13623e9c9"
   },
   "outputs": [],
   "source": [
    "analyze_sentiment('이딴게 영화냐 ㅉㅉ')"
   ]
  },
  {
   "cell_type": "code",
   "execution_count": null,
   "metadata": {
    "colab": {
     "base_uri": "https://localhost:8080/"
    },
    "id": "8O25qZvf3Ao8",
    "outputId": "e8915b54-c094-4d19-895a-be33682e2ff3"
   },
   "outputs": [],
   "source": [
    "analyze_sentiment('감독 뭐하는 놈이냐?')"
   ]
  },
  {
   "cell_type": "code",
   "execution_count": null,
   "metadata": {
    "colab": {
     "base_uri": "https://localhost:8080/"
    },
    "id": "zqLrvLSs3BgE",
    "outputId": "6967c045-c375-4e5d-9748-0a6a919d14cc"
   },
   "outputs": [],
   "source": [
    "analyze_sentiment('와 개쩐다 정말 세계관 최강자들의 영화다')"
   ]
  }
 ],
 "metadata": {
  "accelerator": "GPU",
  "colab": {
   "collapsed_sections": [],
   "name": "Naver Movie Review Sentiment Analysis.ipynb",
   "provenance": []
  },
  "kernelspec": {
   "display_name": "Python 3 (ipykernel)",
   "language": "python",
   "name": "python3"
  },
  "language_info": {
   "codemirror_mode": {
    "name": "ipython",
    "version": 3
   },
   "file_extension": ".py",
   "mimetype": "text/x-python",
   "name": "python",
   "nbconvert_exporter": "python",
   "pygments_lexer": "ipython3",
   "version": "3.11.5"
  }
 },
 "nbformat": 4,
 "nbformat_minor": 1
}
